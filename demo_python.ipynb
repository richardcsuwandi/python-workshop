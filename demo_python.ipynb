{
  "nbformat": 4,
  "nbformat_minor": 0,
  "metadata": {
    "colab": {
      "provenance": [],
      "authorship_tag": "ABX9TyOs4An6Z3NWb2WCSNmN54hZ",
      "include_colab_link": true
    },
    "kernelspec": {
      "name": "python3",
      "display_name": "Python 3"
    },
    "language_info": {
      "name": "python"
    }
  },
  "cells": [
    {
      "cell_type": "markdown",
      "metadata": {
        "id": "view-in-github",
        "colab_type": "text"
      },
      "source": [
        "<a href=\"https://colab.research.google.com/github/richardcsuwandi/python-workshop/blob/main/demo_python.ipynb\" target=\"_parent\"><img src=\"https://colab.research.google.com/assets/colab-badge.svg\" alt=\"Open In Colab\"/></a>"
      ]
    },
    {
      "cell_type": "markdown",
      "source": [
        "# Coding 101: Getting Started with Python\n",
        "\n",
        "By: [Richard Cornelius Suwandi](https://richardcsuwandi.github.io/)\n",
        "\n",
        "\n",
        "<img src=\"https://logicoretech.com/wp-content/uploads/2022/05/Python-Symbol.png\" width=\"400\" height=\"250\" />\n"
      ],
      "metadata": {
        "id": "mvl6ngH-3wd6"
      }
    },
    {
      "cell_type": "markdown",
      "source": [
        "## Apa itu Python?\n",
        "> Python adalah **bahasa pemrograman serbaguna** yang bisa dijalankan pada hampir semua sistem, dan bisa digunakan untuk berbagai aplikasi di banyak bidang, mulai dari *web development* hingga *machine learning*."
      ],
      "metadata": {
        "id": "Cwlbw0sp9Wxn"
      }
    },
    {
      "cell_type": "markdown",
      "source": [
        "## Mengapa Python?\n",
        "Berikut adalah 3 alasan mengapa Python cocok untuk dipelajari oleh pemula:\n",
        "1. Python adalah salah satu bahasa pemrograman yang relatif **mudah untuk dipelajari**\n",
        "2. Python dilengkapi dengan **banyak *libraries* dan *tools***\n",
        "3. Python didukung oleh **komunitas yang besar dan aktif**"
      ],
      "metadata": {
        "id": "gXJiXhfH6ZCx"
      }
    },
    {
      "cell_type": "markdown",
      "source": [
        "## Contoh Kegunaan Python\n",
        "Berikut adalah contoh kegunaan Python dalam berbagai bidang:\n",
        "- [Analisis & Visualisasi Data](https://github.com/richardcsuwandi/airline-sentiment)\n",
        "\n",
        "<img src=\"https://github.com/richardcsuwandi/airline-sentiment/raw/master/demos/demo2.gif?raw=true\" width=800 height=400/>\n",
        "\n",
        "<img src=\"https://github.com/richardcsuwandi/airline-sentiment/raw/master/demos/demo3.gif?raw=true\" width=800 height=400/>\n",
        "\n",
        "- [Membuat Aplikasi](https://github.com/richardcsuwandi/img-enhancer-and-detector)\n",
        "\n",
        "<img src=\"https://github.com/richardcsuwandi/img-enhancer-and-detector/raw/master/demo1.gif?raw=truee\" width=800 height=400/>\n",
        "\n",
        "<img src=\"https://github.com/richardcsuwandi/img-enhancer-and-detector/raw/master/demo2.gif?raw=true\" width=800 height=400/>\n",
        "\n",
        "- [Machine Learning](https://github.com/richardcsuwandi/dl-projects)\n",
        "\n",
        "<img src=\"https://richardcsuwandi.github.io/project/dl-projects/featured_hudc4d873bb4b5e8414a7a9f16bf23b9ea_59585_550x0_resize_q90_lanczos_3.png\" width=600 height=600/>\n",
        "\n",
        "*More projects available [here](https://github.com/richardcsuwandi)*"
      ],
      "metadata": {
        "id": "cdvxUNLiBx0k"
      }
    },
    {
      "cell_type": "markdown",
      "source": [
        "## Data Types\n",
        "Berikut adalah jenis-jenis *data type* dalam Python,\n",
        "- String (`str`): Menyatakan karakter atau kalimat dengan diapit tanda `\"` atau `'`\n",
        "- Integer (`int`): Menyatakan bilangan bulat\n",
        "- Float (`float`): Menyatakan bilangan desimal\n",
        "- Boolean (`bool`): Menyatakan benar (*True*) atau salah (*False*)"
      ],
      "metadata": {
        "id": "ePNl-7etX1QH"
      }
    },
    {
      "cell_type": "code",
      "source": [
        "# String\n",
        "type(\"Hello\")"
      ],
      "metadata": {
        "colab": {
          "base_uri": "https://localhost:8080/"
        },
        "id": "3mv2eGJmZODB",
        "outputId": "dcee83c0-d1b0-4c78-fd24-a0d074e35fbf"
      },
      "execution_count": null,
      "outputs": [
        {
          "output_type": "execute_result",
          "data": {
            "text/plain": [
              "str"
            ]
          },
          "metadata": {},
          "execution_count": 1
        }
      ]
    },
    {
      "cell_type": "code",
      "source": [
        "# Integer\n",
        "type(123)"
      ],
      "metadata": {
        "colab": {
          "base_uri": "https://localhost:8080/"
        },
        "id": "PomLu6_WZT3_",
        "outputId": "277b4fb8-f640-4d4a-ddc8-9b52a3c55adf"
      },
      "execution_count": null,
      "outputs": [
        {
          "output_type": "execute_result",
          "data": {
            "text/plain": [
              "int"
            ]
          },
          "metadata": {},
          "execution_count": 2
        }
      ]
    },
    {
      "cell_type": "code",
      "source": [
        "# Float\n",
        "type(1.23)"
      ],
      "metadata": {
        "colab": {
          "base_uri": "https://localhost:8080/"
        },
        "id": "Wc0Luyu6ZXRu",
        "outputId": "a9912c98-955b-4621-8069-5de9895445b5"
      },
      "execution_count": null,
      "outputs": [
        {
          "output_type": "execute_result",
          "data": {
            "text/plain": [
              "float"
            ]
          },
          "metadata": {},
          "execution_count": 3
        }
      ]
    },
    {
      "cell_type": "code",
      "source": [
        "# Boolean\n",
        "type(True)"
      ],
      "metadata": {
        "colab": {
          "base_uri": "https://localhost:8080/"
        },
        "id": "bJ40oE48ZaYs",
        "outputId": "3c6f5057-1405-4574-c98c-476abc67707c"
      },
      "execution_count": null,
      "outputs": [
        {
          "output_type": "execute_result",
          "data": {
            "text/plain": [
              "bool"
            ]
          },
          "metadata": {},
          "execution_count": 4
        }
      ]
    },
    {
      "cell_type": "code",
      "source": [
        "# None\n",
        "type(None)"
      ],
      "metadata": {
        "colab": {
          "base_uri": "https://localhost:8080/"
        },
        "id": "_5cS6GXzZdAy",
        "outputId": "86dcf003-971b-45c4-b3be-41b556f9a530"
      },
      "execution_count": null,
      "outputs": [
        {
          "output_type": "execute_result",
          "data": {
            "text/plain": [
              "NoneType"
            ]
          },
          "metadata": {},
          "execution_count": 5
        }
      ]
    },
    {
      "cell_type": "markdown",
      "source": [
        "Kita dapat menggunakan *constructor functions* untuk mengubah tipe data (*casting*):"
      ],
      "metadata": {
        "id": "Ql0IwOvpZ4Vq"
      }
    },
    {
      "cell_type": "code",
      "source": [
        "# str -> int\n",
        "type(int(\"123\"))"
      ],
      "metadata": {
        "colab": {
          "base_uri": "https://localhost:8080/"
        },
        "id": "XpxwchuRZ-y9",
        "outputId": "712e2308-5749-4769-be92-1533b6766709"
      },
      "execution_count": null,
      "outputs": [
        {
          "output_type": "execute_result",
          "data": {
            "text/plain": [
              "int"
            ]
          },
          "metadata": {},
          "execution_count": 6
        }
      ]
    },
    {
      "cell_type": "code",
      "source": [
        "# float -> str\n",
        "type(str(3.14))"
      ],
      "metadata": {
        "colab": {
          "base_uri": "https://localhost:8080/"
        },
        "id": "nvjLHHq4aGDl",
        "outputId": "42c7a0c0-31fe-4c57-8914-435caf169e6d"
      },
      "execution_count": null,
      "outputs": [
        {
          "output_type": "execute_result",
          "data": {
            "text/plain": [
              "str"
            ]
          },
          "metadata": {},
          "execution_count": 7
        }
      ]
    },
    {
      "cell_type": "code",
      "source": [
        "# bool -> int\n",
        "type(int(True))"
      ],
      "metadata": {
        "colab": {
          "base_uri": "https://localhost:8080/"
        },
        "id": "l6kbNL9-aK8d",
        "outputId": "55051f0e-a05e-40d3-a713-1be39a4873c0"
      },
      "execution_count": null,
      "outputs": [
        {
          "output_type": "execute_result",
          "data": {
            "text/plain": [
              "int"
            ]
          },
          "metadata": {},
          "execution_count": 8
        }
      ]
    },
    {
      "cell_type": "markdown",
      "source": [
        "Selain *data types* diatas, ada beberapa tipe data lain yang lebih kompleks untuk menampung sekumpulan data,\n",
        "- List (`list`): dapat diisi lebih dari satu tipe data, berurutan, dapat diubah (*mutable*), mengijinkan adanya data duplikat\n"
      ],
      "metadata": {
        "id": "EtG2Uy-wvqws"
      }
    },
    {
      "cell_type": "code",
      "source": [
        "# List\n",
        "myList = [\"Python\", 123, True, 3.45]"
      ],
      "metadata": {
        "id": "76N_rIQVwF-O"
      },
      "execution_count": null,
      "outputs": []
    },
    {
      "cell_type": "code",
      "source": [
        "# List bersifat mutable\n",
        "myList[1] = 3.45\n",
        "myList"
      ],
      "metadata": {
        "colab": {
          "base_uri": "https://localhost:8080/"
        },
        "id": "thUcor5AxM4F",
        "outputId": "7f4209b0-d652-4bd2-9ada-f7deacb517fd"
      },
      "execution_count": null,
      "outputs": [
        {
          "output_type": "execute_result",
          "data": {
            "text/plain": [
              "['Python', 3.45, True, 3.45]"
            ]
          },
          "metadata": {},
          "execution_count": 6
        }
      ]
    },
    {
      "cell_type": "markdown",
      "source": [
        "- Tuple (`tuple`): dapat diisi lebih dari satu tipe data, berurutan, tidak dapat diubah (*immutable*), mengijinkan adanya data duplikat\n"
      ],
      "metadata": {
        "id": "Kedeh23Aw3Kx"
      }
    },
    {
      "cell_type": "code",
      "source": [
        "# Tuple\n",
        "myTuple = (\"Python\", 123, True, 3.45)"
      ],
      "metadata": {
        "id": "_qHOuspjw7Kl"
      },
      "execution_count": null,
      "outputs": []
    },
    {
      "cell_type": "code",
      "source": [
        "# Tuple bersifat immutable\n",
        "# myTuple[0] = \"R\"\n",
        "myTuple"
      ],
      "metadata": {
        "colab": {
          "base_uri": "https://localhost:8080/"
        },
        "id": "K_sMpasXxMnP",
        "outputId": "8d41afcf-23ec-4840-bbd1-8f1ae9bc71b6"
      },
      "execution_count": null,
      "outputs": [
        {
          "output_type": "execute_result",
          "data": {
            "text/plain": [
              "('Python', 123, True, 3.45)"
            ]
          },
          "metadata": {},
          "execution_count": 8
        }
      ]
    },
    {
      "cell_type": "markdown",
      "source": [
        "- Set (`set`): dapat diisi lebih dari satu tipe data, tidak berurutan, tidak dapat diubah (*immutable*), tidak mengijinkan adanya data duplikat\n"
      ],
      "metadata": {
        "id": "6ZvNMvSkx2Xn"
      }
    },
    {
      "cell_type": "code",
      "source": [
        "# Set\n",
        "mySet = {\"Python\", 123, \"Python\", 3.45}\n",
        "mySet"
      ],
      "metadata": {
        "colab": {
          "base_uri": "https://localhost:8080/"
        },
        "id": "XqJww7kxxwCP",
        "outputId": "a07eea52-5986-4314-a2c9-0ad180a32411"
      },
      "execution_count": null,
      "outputs": [
        {
          "output_type": "execute_result",
          "data": {
            "text/plain": [
              "{123, 3.45, 'Python'}"
            ]
          },
          "metadata": {},
          "execution_count": 11
        }
      ]
    },
    {
      "cell_type": "markdown",
      "source": [
        "- Dictionary (`dict`): memetakan sebuah nilai ke dalam nilai lainnya dengan menggunakan \"kunci\"\n"
      ],
      "metadata": {
        "id": "N4-PqShAyriN"
      }
    },
    {
      "cell_type": "code",
      "source": [
        "# Dictionary\n",
        "myDict = {\"Nama\": \"Doni\", \"Usia\": 27, \"Pekerjaan\": \"Data Scientist\", \"Hobi\": [\"Olahraga\", \"Nonton\", \"Traveling\"]}\n",
        "myDict"
      ],
      "metadata": {
        "colab": {
          "base_uri": "https://localhost:8080/"
        },
        "id": "IeZLAIXzy51m",
        "outputId": "5fc5b204-60bf-4407-da6c-de2f187442c8"
      },
      "execution_count": null,
      "outputs": [
        {
          "output_type": "execute_result",
          "data": {
            "text/plain": [
              "{'Nama': 'Doni',\n",
              " 'Usia': 27,\n",
              " 'Pekerjaan': 'Data Scientist',\n",
              " 'Hobi': ['Olahraga', 'Nonton', 'Traveling']}"
            ]
          },
          "metadata": {},
          "execution_count": 15
        }
      ]
    },
    {
      "cell_type": "code",
      "source": [
        "# Mengakses nilai pada dictionary\n",
        "myDict[\"Hobi\"]"
      ],
      "metadata": {
        "colab": {
          "base_uri": "https://localhost:8080/"
        },
        "id": "d4fGq3MZzmFn",
        "outputId": "c0ae906c-8276-4623-cb36-76b6ffba4ef8"
      },
      "execution_count": null,
      "outputs": [
        {
          "output_type": "execute_result",
          "data": {
            "text/plain": [
              "['Olahraga', 'Nonton', 'Traveling']"
            ]
          },
          "metadata": {},
          "execution_count": 16
        }
      ]
    },
    {
      "cell_type": "markdown",
      "source": [
        "## Variables\n",
        "Variabel dapat kita gunakan untuk menyimpan nilai dari suatu tipe data. Untuk mulai membuat sebuah variabel, kita cukup menuliskan nama variabel lalu menambahkan tanda `=` diikuti dengan nilai yang ingin disimpan:"
      ],
      "metadata": {
        "id": "Rk6JBa-5dflQ"
      }
    },
    {
      "cell_type": "code",
      "source": [
        "# Membuat variabel\n",
        "a = 1"
      ],
      "metadata": {
        "id": "QYXwTO9Cd_BC"
      },
      "execution_count": null,
      "outputs": []
    },
    {
      "cell_type": "markdown",
      "source": [
        "Nama variabel di Python bersifat *case-sensitive*, artinya huruf kecil dan huruf besar akan dibedakan:"
      ],
      "metadata": {
        "id": "wRuPHFH_eGZJ"
      }
    },
    {
      "cell_type": "code",
      "source": [
        "# Berikut adalah 2 variabel berbeda\n",
        "a = 1\n",
        "A = \"1\""
      ],
      "metadata": {
        "id": "Od7t3iPzePvA"
      },
      "execution_count": null,
      "outputs": []
    },
    {
      "cell_type": "markdown",
      "source": [
        "Variabel dalam Python bersifat yang dinamis, artinya variabel tidak perlu didekralasikan dengan tipe data tertentu dan dapat diubah saat program dijalankan:"
      ],
      "metadata": {
        "id": "gOPAiwwHesZM"
      }
    },
    {
      "cell_type": "code",
      "source": [
        "# Variabel bersifat dinamis\n",
        "a = 1\n",
        "a = \"Hello\"\n",
        "a"
      ],
      "metadata": {
        "colab": {
          "base_uri": "https://localhost:8080/",
          "height": 35
        },
        "id": "G7jE6GuTe2KM",
        "outputId": "2024e785-8def-468e-a6a3-4cd6efdb9c44"
      },
      "execution_count": null,
      "outputs": [
        {
          "output_type": "execute_result",
          "data": {
            "text/plain": [
              "'Hello'"
            ],
            "application/vnd.google.colaboratory.intrinsic+json": {
              "type": "string"
            }
          },
          "metadata": {},
          "execution_count": 11
        }
      ]
    },
    {
      "cell_type": "markdown",
      "source": [
        "## Operators\n",
        "Dalam Python, ada berbagai jenis operator yang dapat kita gunakan:"
      ],
      "metadata": {
        "id": "j25ZpVweawzL"
      }
    },
    {
      "cell_type": "markdown",
      "source": [
        "### Operator Aritmatika\n",
        "- Penjumlahan (`+`)\n",
        "- Pengurangan (`-`)\n",
        "- Perkalian (`*`)\n",
        "- Pembagian (`/`)\n",
        "- Modulus (`%`)\n",
        "- Pemangkatan (`**`)\n",
        "- Pembagian Bulat (`//`)"
      ],
      "metadata": {
        "id": "bOLlZUyPcvIM"
      }
    },
    {
      "cell_type": "code",
      "source": [
        "# Contoh operator aritmatika:\n",
        "x = 10\n",
        "y = 3\n",
        "x + y"
      ],
      "metadata": {
        "colab": {
          "base_uri": "https://localhost:8080/"
        },
        "id": "gXQjgykUfIzX",
        "outputId": "9ad81fc1-8f3c-4354-9609-f4ab3c697797"
      },
      "execution_count": null,
      "outputs": [
        {
          "output_type": "execute_result",
          "data": {
            "text/plain": [
              "13"
            ]
          },
          "metadata": {},
          "execution_count": 12
        }
      ]
    },
    {
      "cell_type": "markdown",
      "source": [
        "### Operator Perbandingan/Relasi\n",
        "\n",
        "- Lebih besar (`>`)\n",
        "- Lebih kecil (`<`)\n",
        "- Sama dengan (`==`)\n",
        "- Tidak sama dengan (`!=`)\n",
        "- Lebih besar sama dengan (`>=`)\n",
        "- Lebih kecil sama dengan (`<=`)\n",
        "\n"
      ],
      "metadata": {
        "id": "dYj0oJEjfkf5"
      }
    },
    {
      "cell_type": "code",
      "source": [
        "# Contoh operator perbandingan/relasi:\n",
        "x = 4\n",
        "y = 2\n",
        "x > y"
      ],
      "metadata": {
        "colab": {
          "base_uri": "https://localhost:8080/"
        },
        "id": "eNmYxKS3gF5L",
        "outputId": "690a258e-21f4-456b-f704-a7cd1bcdfa3e"
      },
      "execution_count": null,
      "outputs": [
        {
          "output_type": "execute_result",
          "data": {
            "text/plain": [
              "True"
            ]
          },
          "metadata": {},
          "execution_count": 13
        }
      ]
    },
    {
      "cell_type": "markdown",
      "source": [
        "### Operator Logika\n",
        "- `and`: Mengembalikan `True` jika dua statement sama-sama benar\n",
        "- `or`: Mengembalikan `True` jika salah satu statement bernilai benar\n",
        "- `not`: Menegasikan hasil (`True` -> `False` dan sebalikanya)"
      ],
      "metadata": {
        "id": "FG_5POodgWxG"
      }
    },
    {
      "cell_type": "code",
      "source": [
        "# Contoh operator logika:\n",
        "x = True\n",
        "y = False\n",
        "x and y"
      ],
      "metadata": {
        "colab": {
          "base_uri": "https://localhost:8080/"
        },
        "id": "DzwnVV1kg4Xq",
        "outputId": "5201b050-3cb4-42a3-e84c-9f6f55ec05d6"
      },
      "execution_count": null,
      "outputs": [
        {
          "output_type": "execute_result",
          "data": {
            "text/plain": [
              "False"
            ]
          },
          "metadata": {},
          "execution_count": 14
        }
      ]
    },
    {
      "cell_type": "markdown",
      "source": [
        "### Latihan\n",
        "Buatlah sebuah dictionary untuk menyimpan informasi berikut:\n",
        "- Harga apel per kg adalah Rp. 32.500\n",
        "- Harga melon per kg adalah Rp. 9.750\n",
        "- Harga nanas per kg adalah Rp. 5.800\n",
        "- Harga mangga per kg adalah Rp. 1.100\n",
        "\n",
        "Jika Doni membeli 1 kg apel, 1 kg melon, 2 kg nanas, dan 3 kg mangga, maka berapakah total uang yang harus ia bayar?"
      ],
      "metadata": {
        "id": "2MZgLDwG0Zwe"
      }
    },
    {
      "cell_type": "code",
      "source": [
        "# Jawaban:\n",
        "harga = {\"Apel\": 32500, \"Melon\": 9750, \"Nanas\": 5800, \"Mangga\": 1100}\n",
        "harga[\"Apel\"] + harga[\"Melon\"] + 2*harga[\"Nanas\"]+ 3*harga[\"Mangga\"]"
      ],
      "metadata": {
        "id": "3QwWgprU3kDr",
        "outputId": "6f5fef5b-4cff-4ddf-9ccf-9a6115aa5486",
        "colab": {
          "base_uri": "https://localhost:8080/"
        }
      },
      "execution_count": null,
      "outputs": [
        {
          "output_type": "execute_result",
          "data": {
            "text/plain": [
              "57150"
            ]
          },
          "metadata": {},
          "execution_count": 18
        }
      ]
    },
    {
      "cell_type": "markdown",
      "source": [
        "## Control Flow\n",
        "Pada umumnya, kita dapat menggunakan serangkaian *keyword* `if` untuk mengatur jalannya program:"
      ],
      "metadata": {
        "id": "PsiaiWfIiJlz"
      }
    },
    {
      "cell_type": "code",
      "source": [
        "# Contoh pengunaan if\n",
        "x = -1\n",
        "if x < 0:\n",
        "  print(\"x adalah bilangan negatif\")"
      ],
      "metadata": {
        "colab": {
          "base_uri": "https://localhost:8080/"
        },
        "id": "swr5ti3Y87EJ",
        "outputId": "c2cf1880-5ab8-462d-c477-58116aa7804f"
      },
      "execution_count": null,
      "outputs": [
        {
          "output_type": "stream",
          "name": "stdout",
          "text": [
            "x adalah bilangan negatif\n"
          ]
        }
      ]
    },
    {
      "cell_type": "markdown",
      "source": [
        "Untuk melakukan percabangan, kita dapat menambahkan *keyword* `elif`:"
      ],
      "metadata": {
        "id": "VHlrDmc89ny2"
      }
    },
    {
      "cell_type": "code",
      "source": [
        "# Contoh pengunaan elif\n",
        "x = 1\n",
        "if x < 0:\n",
        "  print(\"x adalah bilangan negatif\")\n",
        "elif x > 0:\n",
        "  print(\"x adalah bilangan positif\")"
      ],
      "metadata": {
        "colab": {
          "base_uri": "https://localhost:8080/"
        },
        "id": "dCCOsq4O9yud",
        "outputId": "e9c917e0-eedf-4a4e-cf99-e2fe3531974a"
      },
      "execution_count": null,
      "outputs": [
        {
          "output_type": "stream",
          "name": "stdout",
          "text": [
            "x adalah bilangan positif\n"
          ]
        }
      ]
    },
    {
      "cell_type": "markdown",
      "source": [
        "Selain itu, kita dapat menggunakan *keyword* `else` bila kondisi sebelumnya tidak ada yang terpenuhi:"
      ],
      "metadata": {
        "id": "gMDyLyHG-AUF"
      }
    },
    {
      "cell_type": "code",
      "source": [
        "# Contoh pengunaan else\n",
        "x = 0\n",
        "if x < 0:\n",
        "  print(\"x adalah bilangan negatif\")\n",
        "elif x > 0:\n",
        "  print(\"x adalah bilangan positif\")\n",
        "else:\n",
        "  print(\"x bernilai nol\")"
      ],
      "metadata": {
        "colab": {
          "base_uri": "https://localhost:8080/"
        },
        "id": "IMrS_pGJ-kzO",
        "outputId": "8b118cf1-8e8e-4c0d-88fd-d30ee3ad7279"
      },
      "execution_count": null,
      "outputs": [
        {
          "output_type": "stream",
          "name": "stdout",
          "text": [
            "x bernilai nol\n"
          ]
        }
      ]
    },
    {
      "cell_type": "markdown",
      "source": [
        "Kita dapat menggabungkan beberapa kondisi dengan operator logika (`and`, `or`, `not`):"
      ],
      "metadata": {
        "id": "qmiroHwl_Ctt"
      }
    },
    {
      "cell_type": "code",
      "source": [
        "# Menggabungkan beberapa kondisi\n",
        "temp = 20\n",
        "if temp <= 15:\n",
        "  print(\"temp is low\")\n",
        "elif temp > 15 and temp <= 30:\n",
        "  print(\"temp is medium\")\n",
        "else:\n",
        "  print(\"temp is high\")"
      ],
      "metadata": {
        "colab": {
          "base_uri": "https://localhost:8080/"
        },
        "id": "GPAbEcyz-3_k",
        "outputId": "459578d5-049b-45c8-cc12-9dce72c22f25"
      },
      "execution_count": null,
      "outputs": [
        {
          "output_type": "stream",
          "name": "stdout",
          "text": [
            "temp is medium\n"
          ]
        }
      ]
    },
    {
      "cell_type": "markdown",
      "source": [
        "#### Latihan\n",
        "- Buatlah sebuah program untuk menguji apakah `num` merupakan bilangan ganjil atau bilangan genap\n",
        "- Gunakan program yang telah dibuat untuk memeriksa `num = 72`\n",
        "- Gunakan program yang telah dibuat untuk memeriksa `num = 63`"
      ],
      "metadata": {
        "id": "0yDrXbH7CABY"
      }
    },
    {
      "cell_type": "code",
      "source": [
        "# Jawaban:\n",
        "num = 63\n",
        "if num % 2 == 0:\n",
        "  print(\"num adalah bilangan genap\")\n",
        "else:\n",
        "  print(\"num adalah bilangan ganjil\")"
      ],
      "metadata": {
        "id": "QaBzRhqOCvlW",
        "colab": {
          "base_uri": "https://localhost:8080/"
        },
        "outputId": "efbaf61c-cf6a-4b87-c438-a0de3bcc3491"
      },
      "execution_count": null,
      "outputs": [
        {
          "output_type": "stream",
          "name": "stdout",
          "text": [
            "num adalah bilangan ganjil\n"
          ]
        }
      ]
    },
    {
      "cell_type": "markdown",
      "source": [
        "## Loops"
      ],
      "metadata": {
        "id": "83fZtbCFiLVp"
      }
    },
    {
      "cell_type": "markdown",
      "source": [
        "### For Loop\n",
        "`for` dapat digunakan untuk melakukan pengulangan sebanyak nilai tertentu. Syntax pada umumnya adalah sebagai berikut:\n",
        "\n",
        "```\n",
        "for i in range(start, stop, step):\n",
        "  ...\n",
        "```\n",
        "- `start`: nilai awal (secara default 0)\n",
        "- `stop`: nilai akhir (ekslusif)\n",
        "- `step`: langkah (opsional)"
      ],
      "metadata": {
        "id": "LqqM8EcSiM8X"
      }
    },
    {
      "cell_type": "code",
      "source": [
        "# Contoh pengunaan for\n",
        "n = 10\n",
        "for i in range(n):\n",
        "  print(i)"
      ],
      "metadata": {
        "colab": {
          "base_uri": "https://localhost:8080/"
        },
        "id": "fynHbZQRc44T",
        "outputId": "654e6461-1a16-41ce-c440-e3a3de711aae"
      },
      "execution_count": null,
      "outputs": [
        {
          "output_type": "stream",
          "name": "stdout",
          "text": [
            "0\n",
            "1\n",
            "2\n",
            "3\n",
            "4\n",
            "5\n",
            "6\n",
            "7\n",
            "8\n",
            "9\n"
          ]
        }
      ]
    },
    {
      "cell_type": "markdown",
      "source": [
        "Note: `range(n)` akan menghasilkan angka mulai dari $0$ hingga $n - 1$."
      ],
      "metadata": {
        "id": "lwe4hlQJdeNz"
      }
    },
    {
      "cell_type": "markdown",
      "source": [
        "Kita juga dapat menggunakan `for` loop untuk melakukan iterasi terhadap tipe data *sequence* seperti *string* (`str`):"
      ],
      "metadata": {
        "id": "Xp7jJTD1eRWy"
      }
    },
    {
      "cell_type": "code",
      "source": [
        "# Contoh for pada str\n",
        "for char in \"python\":\n",
        "  print(char)"
      ],
      "metadata": {
        "colab": {
          "base_uri": "https://localhost:8080/"
        },
        "id": "byznGAbDeYzx",
        "outputId": "62aadc2b-5516-4cde-e4d8-ba92a6aa039f"
      },
      "execution_count": null,
      "outputs": [
        {
          "output_type": "stream",
          "name": "stdout",
          "text": [
            "p\n",
            "y\n",
            "t\n",
            "h\n",
            "o\n",
            "n\n"
          ]
        }
      ]
    },
    {
      "cell_type": "markdown",
      "source": [
        "#### Latihan\n",
        "(Fizzbuzz) Write a program that prints the numbers from 1 to 50. But for multiples of 3 print \"Fizz\" instead of the number and for the multiples of 5 print \"Buzz\". For numbers which are multiples of both 3 and 5 print \"FizzBuzz\":"
      ],
      "metadata": {
        "id": "lQrBzinW_210"
      }
    },
    {
      "cell_type": "code",
      "source": [
        "# Jawaban:\n",
        "for i in range(1, 51):\n",
        "  if i % 3 == 0 and i % 5 == 0:\n",
        "    print(\"FizzBuzz\")\n",
        "  elif i % 3 == 0:\n",
        "    print(\"Fizz\")\n",
        "  elif i % 5 == 0:\n",
        "    print(\"Buzz\")\n",
        "  else:\n",
        "    print(i)"
      ],
      "metadata": {
        "colab": {
          "base_uri": "https://localhost:8080/"
        },
        "id": "tWGJp9NxbuxH",
        "outputId": "540a7e2a-0489-4334-9fdd-093981aba756"
      },
      "execution_count": null,
      "outputs": [
        {
          "output_type": "stream",
          "name": "stdout",
          "text": [
            "1\n",
            "2\n",
            "Fizz\n",
            "4\n",
            "Buzz\n",
            "Fizz\n",
            "7\n",
            "8\n",
            "Fizz\n",
            "Buzz\n",
            "11\n",
            "Fizz\n",
            "13\n",
            "14\n",
            "FizzBuzz\n",
            "16\n",
            "17\n",
            "Fizz\n",
            "19\n",
            "Buzz\n",
            "Fizz\n",
            "22\n",
            "23\n",
            "Fizz\n",
            "Buzz\n",
            "26\n",
            "Fizz\n",
            "28\n",
            "29\n",
            "FizzBuzz\n",
            "31\n",
            "32\n",
            "Fizz\n",
            "34\n",
            "Buzz\n",
            "Fizz\n",
            "37\n",
            "38\n",
            "Fizz\n",
            "Buzz\n",
            "41\n",
            "Fizz\n",
            "43\n",
            "44\n",
            "FizzBuzz\n",
            "46\n",
            "47\n",
            "Fizz\n",
            "49\n",
            "Buzz\n"
          ]
        }
      ]
    },
    {
      "cell_type": "markdown",
      "source": [
        "### While Loop\n",
        "`while` akan melakukan pengulangan selama kondisi masih `True`. Pada umumnya, syntax yang digunakan adalah sebagai berikut:\n",
        "\n",
        "```\n",
        "while <kondisi>:\n",
        "  ...\n",
        "```\n",
        "\n"
      ],
      "metadata": {
        "id": "0KXdKVi1iPOm"
      }
    },
    {
      "cell_type": "code",
      "source": [
        "# Contoh pengunaan while\n",
        "i = 0\n",
        "while i < 10:\n",
        "  print(i)\n",
        "  i = i + 1"
      ],
      "metadata": {
        "colab": {
          "base_uri": "https://localhost:8080/"
        },
        "id": "CoyUSOA4e_-v",
        "outputId": "47e84fdb-b9a3-43fa-f135-ef29c9e1d9f5"
      },
      "execution_count": null,
      "outputs": [
        {
          "output_type": "stream",
          "name": "stdout",
          "text": [
            "0\n",
            "1\n",
            "2\n",
            "3\n",
            "4\n",
            "5\n",
            "6\n",
            "7\n",
            "8\n",
            "9\n"
          ]
        }
      ]
    },
    {
      "cell_type": "markdown",
      "source": [
        "Note: Saat menggunakan `while`, kita wajib memperbaharui variabel pada tiap pengulangan agar program dapat berhenti"
      ],
      "metadata": {
        "id": "JCNo3zoYfHOh"
      }
    },
    {
      "cell_type": "markdown",
      "source": [
        "Kita dapat menggunakan *keyword* `break` untuk memberhentikan pengulangan dalam `while` loop:"
      ],
      "metadata": {
        "id": "B726pzM9foPy"
      }
    },
    {
      "cell_type": "code",
      "source": [
        "# Contoh pengunaan break\n",
        "i = 10\n",
        "while i > 0:\n",
        "  print(i)\n",
        "  if i == 3:\n",
        "    break\n",
        "  i = i - 1"
      ],
      "metadata": {
        "colab": {
          "base_uri": "https://localhost:8080/"
        },
        "id": "YY5N7O97f155",
        "outputId": "e7107e98-b7f3-493b-e6ca-64d0ed78c431"
      },
      "execution_count": null,
      "outputs": [
        {
          "output_type": "stream",
          "name": "stdout",
          "text": [
            "10\n",
            "9\n",
            "8\n",
            "7\n",
            "6\n",
            "5\n",
            "4\n",
            "3\n"
          ]
        }
      ]
    },
    {
      "cell_type": "markdown",
      "source": [
        "#### Latihan\n",
        "- Buatlah sebuah program untuk menghitung faktorial dari sebuah bilangan `n`\n",
        "- Gunakan `n = 5` untuk memeriksa program yang telah dibuat  \n",
        "- Gunakan `n = 8` untuk memeriksa program yang telah dibuat  \n",
        "\n",
        "*Hint: Faktorial dari sebuah bilangan $n$ dapat dihitung dengan $n! = n(n-1) \\ldots 1$*"
      ],
      "metadata": {
        "id": "Ftjo18Jwgoqa"
      }
    },
    {
      "cell_type": "code",
      "source": [
        "# Jawaban:\n",
        "n = 5\n",
        "fact = 1\n",
        "while n > 0:\n",
        "  fact = fact*n\n",
        "  n = n - 1\n",
        "\n",
        "fact"
      ],
      "metadata": {
        "colab": {
          "base_uri": "https://localhost:8080/"
        },
        "id": "cLxQ8INLhm3w",
        "outputId": "822b895f-76a6-40a1-9bbc-ec53cf500c35"
      },
      "execution_count": null,
      "outputs": [
        {
          "output_type": "execute_result",
          "data": {
            "text/plain": [
              "120"
            ]
          },
          "metadata": {},
          "execution_count": 25
        }
      ]
    },
    {
      "cell_type": "markdown",
      "source": [
        "### Perbedaan For dan While\n",
        "- `for` biasa digunakan saat jumlah pengulangan sudah diketahui/ditentukan\n",
        "- `while` digunakan saat jumlah pengulangan belum diketahui/ditentukan\n"
      ],
      "metadata": {
        "id": "rWVK25sWlKiw"
      }
    },
    {
      "cell_type": "markdown",
      "source": [
        "## Mini Project\n",
        "![](https://play-lh.googleusercontent.com/Z5BA3DYVKalnbCW8CGlIM3bN699i6QwRs5oE5kr_1-OYApm2cLPSlOP6mbdUJunXtw=w240-h480-rw)\n",
        "\n",
        "Buatlah sebuah kalkulator sederhana untuk dua bilangan yang mendukung 4 jenis operasi: penjumlahan (`+`), pengurangan (`-`), perkalian (`*`), dan pembagian (`/`).\n",
        "\n",
        "*Hint: Gunakan `input()` untuk menerima inputan dari user*"
      ],
      "metadata": {
        "id": "_YzeZJTcUTmJ"
      }
    },
    {
      "cell_type": "code",
      "source": [
        "# Jawaban:\n",
        "x = float(input(\"Silahkan masukkan bilangan pertama: \"))\n",
        "y = float(input(\"Silahkan masukkan bilangan kedua: \"))\n",
        "op = input(\"Pilih jenis operasi (+, -, *, /): \")\n",
        "if op == \"+\":\n",
        "  hasil = x + y\n",
        "elif op == \"-\":\n",
        "  hasil = x - y\n",
        "elif op == \"*\":\n",
        "  hasil = x * y\n",
        "elif op == \"/\":\n",
        "  hasil = x / y\n",
        "else:\n",
        "  print(\"Tidak valid\")\n",
        "\n",
        "hasil"
      ],
      "metadata": {
        "colab": {
          "base_uri": "https://localhost:8080/"
        },
        "id": "3IK8p2qXViNj",
        "outputId": "6ea3e850-2ad7-40ea-b16e-962f2962c1a4"
      },
      "execution_count": null,
      "outputs": [
        {
          "name": "stdout",
          "output_type": "stream",
          "text": [
            "Silahkan masukkan bilangan pertama: 5\n",
            "Silahkan masukkan bilangan kedua: 10\n",
            "Pilih jenis operasi (+, -, *, /): *\n"
          ]
        },
        {
          "output_type": "execute_result",
          "data": {
            "text/plain": [
              "50.0"
            ]
          },
          "metadata": {},
          "execution_count": 7
        }
      ]
    },
    {
      "cell_type": "markdown",
      "source": [
        "## Thanks for joining!\n",
        "Feel free to connect with me:\n",
        "\n",
        "[<img align=\"left\" alt=\"richardcsuwandi.github.io\" width=\"30px\" src=\"https://raw.githubusercontent.com/iconic/open-iconic/master/svg/globe.svg\"/>][Website]\n",
        "\n",
        "[<img align=\"left\" alt=\"linkedin.com/richardcsuwandi\" width=\"30px\" src=\"https://cdn.jsdelivr.net/npm/simple-icons@v3/icons/linkedin.svg\" />][LinkedIn]\n",
        "\n",
        "[<img align=\"left\" alt=\"https://www.github.com/richardcsuwandi\" width=\"30px\" src=\"http://simpleicons.org/icons/github.svg\" />][GitHub]\n",
        "\n",
        "[Website]: https://richardcsuwandi.github.io\n",
        "[LinkedIn]: https://linkedin.com/in/richardcsuwandi\n",
        "[GitHub]: https://github.com/richardcsuwandi"
      ],
      "metadata": {
        "id": "tqBrySe2YpHd"
      }
    }
  ]
}