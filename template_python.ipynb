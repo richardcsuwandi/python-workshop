{
  "nbformat": 4,
  "nbformat_minor": 0,
  "metadata": {
    "colab": {
      "provenance": [],
      "authorship_tag": "ABX9TyNqsF17hggPH2DZX/l8QCxf",
      "include_colab_link": true
    },
    "kernelspec": {
      "name": "python3",
      "display_name": "Python 3"
    },
    "language_info": {
      "name": "python"
    }
  },
  "cells": [
    {
      "cell_type": "markdown",
      "metadata": {
        "id": "view-in-github",
        "colab_type": "text"
      },
      "source": [
        "<a href=\"https://colab.research.google.com/github/richardcsuwandi/python-workshop/blob/main/template_python.ipynb\" target=\"_parent\"><img src=\"https://colab.research.google.com/assets/colab-badge.svg\" alt=\"Open In Colab\"/></a>"
      ]
    },
    {
      "cell_type": "markdown",
      "source": [
        "# Getting Started with Python\n",
        "\n",
        "By: [Richard Cornelius Suwandi](https://richardcsuwandi.github.io/)\n",
        "\n",
        "\n",
        "<img src=\"https://logicoretech.com/wp-content/uploads/2022/05/Python-Symbol.png\" width=\"400\" height=\"250\" />\n"
      ],
      "metadata": {
        "id": "mvl6ngH-3wd6"
      }
    },
    {
      "cell_type": "markdown",
      "source": [
        "## Apa itu Python?\n",
        "> Python adalah **bahasa pemrograman serbaguna** yang bisa dijalankan pada hampir semua sistem, dan bisa digunakan untuk berbagai aplikasi di banyak bidang, mulai dari *web development* hingga *machine learning*."
      ],
      "metadata": {
        "id": "Cwlbw0sp9Wxn"
      }
    },
    {
      "cell_type": "markdown",
      "source": [
        "## Mengapa Python?\n",
        "Berikut adalah 3 alasan mengapa Python cocok untuk dipelajari oleh pemula:\n",
        "1. Python adalah salah satu bahasa pemrograman yang relatif **mudah untuk dipelajari**\n",
        "2. Python dilengkapi dengan **banyak *libraries* dan *tools***\n",
        "3. Python didukung oleh **komunitas yang besar dan aktif**"
      ],
      "metadata": {
        "id": "gXJiXhfH6ZCx"
      }
    },
    {
      "cell_type": "markdown",
      "source": [
        "## Contoh Kegunaan Python\n",
        "Berikut adalah contoh kegunaan Python dalam berbagai bidang:\n",
        "- [Analisis & Visualisasi Data](https://github.com/richardcsuwandi/airline-sentiment)\n",
        "\n",
        "<img src=\"https://github.com/richardcsuwandi/airline-sentiment/raw/master/demos/demo2.gif?raw=true\" width=800 height=400/>\n",
        "\n",
        "<img src=\"https://github.com/richardcsuwandi/airline-sentiment/raw/master/demos/demo3.gif?raw=true\" width=800 height=400/>\n",
        "\n",
        "- [Membuat aplikasi](https://github.com/richardcsuwandi/img-enhancer-and-detector)\n",
        "\n",
        "<img src=\"https://github.com/richardcsuwandi/img-enhancer-and-detector/raw/master/demo1.gif?raw=truee\" width=800 height=400/>\n",
        "\n",
        "<img src=\"https://github.com/richardcsuwandi/img-enhancer-and-detector/raw/master/demo2.gif?raw=true\" width=800 height=400/>\n",
        "\n",
        "- [Machine Learning](https://github.com/richardcsuwandi/dl-projects)\n",
        "\n",
        "<img src=\"https://richardcsuwandi.github.io/project/dl-projects/featured_hudc4d873bb4b5e8414a7a9f16bf23b9ea_59585_550x0_resize_q90_lanczos_3.png\" width=600 height=600/>\n",
        "\n",
        "*More projects available [here](https://github.com/richardcsuwandi)*"
      ],
      "metadata": {
        "id": "cdvxUNLiBx0k"
      }
    },
    {
      "cell_type": "markdown",
      "source": [
        "## Data Types\n",
        "Berikut adalah jenis-jenis *data type* dalam Python,\n",
        "- String (`str`): Menyatakan karakter atau kalimat dengan diapit tanda `\"` atau `'`\n",
        "- Integer (`int`): Menyatakan bilangan bulat\n",
        "- Float (`float`): Menyatakan bilangan desimal\n",
        "- Boolean (`bool`): Menyatakan benar (*True*) atau salah (*False*)"
      ],
      "metadata": {
        "id": "ePNl-7etX1QH"
      }
    },
    {
      "cell_type": "code",
      "source": [
        "# String\n"
      ],
      "metadata": {
        "id": "3mv2eGJmZODB"
      },
      "execution_count": 1,
      "outputs": []
    },
    {
      "cell_type": "code",
      "source": [
        "# Integer\n"
      ],
      "metadata": {
        "id": "PomLu6_WZT3_"
      },
      "execution_count": 2,
      "outputs": []
    },
    {
      "cell_type": "code",
      "source": [
        "# Float\n"
      ],
      "metadata": {
        "id": "Wc0Luyu6ZXRu"
      },
      "execution_count": 3,
      "outputs": []
    },
    {
      "cell_type": "code",
      "source": [
        "# Boolean\n"
      ],
      "metadata": {
        "id": "bJ40oE48ZaYs"
      },
      "execution_count": 4,
      "outputs": []
    },
    {
      "cell_type": "code",
      "source": [
        "# None\n"
      ],
      "metadata": {
        "id": "_5cS6GXzZdAy"
      },
      "execution_count": 5,
      "outputs": []
    },
    {
      "cell_type": "markdown",
      "source": [
        "Kita dapat menggunakan *constructor functions* untuk mengubah tipe data (*casting*):"
      ],
      "metadata": {
        "id": "Ql0IwOvpZ4Vq"
      }
    },
    {
      "cell_type": "code",
      "source": [
        "# str -> int\n"
      ],
      "metadata": {
        "id": "XpxwchuRZ-y9"
      },
      "execution_count": 6,
      "outputs": []
    },
    {
      "cell_type": "code",
      "source": [
        "# float -> str\n"
      ],
      "metadata": {
        "id": "nvjLHHq4aGDl"
      },
      "execution_count": 7,
      "outputs": []
    },
    {
      "cell_type": "code",
      "source": [
        "# bool -> int\n"
      ],
      "metadata": {
        "id": "l6kbNL9-aK8d"
      },
      "execution_count": 8,
      "outputs": []
    },
    {
      "cell_type": "markdown",
      "source": [
        "Selain *data types* diatas, ada beberapa tipe data lain yang lebih kompleks untuk menampung sekumpulan data,\n",
        "- List (`list`): dapat diisi lebih dari satu tipe data, berurutan, dapat diubah (*mutable*), mengijinkan adanya data duplikat\n"
      ],
      "metadata": {
        "id": "EtG2Uy-wvqws"
      }
    },
    {
      "cell_type": "code",
      "source": [
        "# List\n"
      ],
      "metadata": {
        "id": "76N_rIQVwF-O"
      },
      "execution_count": 9,
      "outputs": []
    },
    {
      "cell_type": "code",
      "source": [
        "# List bersifat mutable\n"
      ],
      "metadata": {
        "id": "thUcor5AxM4F"
      },
      "execution_count": 10,
      "outputs": []
    },
    {
      "cell_type": "markdown",
      "source": [
        "- Tuple (`tuple`): dapat diisi lebih dari satu tipe data, berurutan, tidak dapat diubah (*immutable*), mengijinkan adanya data duplikat\n"
      ],
      "metadata": {
        "id": "Kedeh23Aw3Kx"
      }
    },
    {
      "cell_type": "code",
      "source": [
        "# Tuple\n"
      ],
      "metadata": {
        "id": "_qHOuspjw7Kl"
      },
      "execution_count": 11,
      "outputs": []
    },
    {
      "cell_type": "code",
      "source": [
        "# Tuple bersifat immutable\n"
      ],
      "metadata": {
        "id": "K_sMpasXxMnP"
      },
      "execution_count": 12,
      "outputs": []
    },
    {
      "cell_type": "markdown",
      "source": [
        "- Set (`set`): dapat diisi lebih dari satu tipe data, tidak berurutan, tidak dapat diubah (*immutable*), tidak mengijinkan adanya data duplikat\n"
      ],
      "metadata": {
        "id": "6ZvNMvSkx2Xn"
      }
    },
    {
      "cell_type": "code",
      "source": [
        "# Set\n"
      ],
      "metadata": {
        "id": "XqJww7kxxwCP"
      },
      "execution_count": 13,
      "outputs": []
    },
    {
      "cell_type": "markdown",
      "source": [
        "- Dictionary (`dict`): memetakan sebuah nilai ke dalam nilai lainnya dengan menggunakan \"kunci\"\n"
      ],
      "metadata": {
        "id": "N4-PqShAyriN"
      }
    },
    {
      "cell_type": "code",
      "source": [
        "# Dictionary\n"
      ],
      "metadata": {
        "id": "IeZLAIXzy51m"
      },
      "execution_count": 14,
      "outputs": []
    },
    {
      "cell_type": "code",
      "source": [
        "# Mengakses nilai pada dictionary\n"
      ],
      "metadata": {
        "id": "d4fGq3MZzmFn"
      },
      "execution_count": 15,
      "outputs": []
    },
    {
      "cell_type": "markdown",
      "source": [
        "## Variables\n",
        "Variabel dapat kita gunakan untuk menyimpan nilai dari suatu tipe data. Untuk mulai membuat sebuah variabel, kita cukup menuliskan nama variabel lalu menambahkan tanda `=` diikuti dengan nilai yang ingin disimpan:"
      ],
      "metadata": {
        "id": "Rk6JBa-5dflQ"
      }
    },
    {
      "cell_type": "code",
      "source": [
        "# Membuat variabel\n"
      ],
      "metadata": {
        "id": "QYXwTO9Cd_BC"
      },
      "execution_count": 16,
      "outputs": []
    },
    {
      "cell_type": "markdown",
      "source": [
        "Nama variabel di Python bersifat *case-sensitive*, artinya huruf kecil dan huruf besar akan dibedakan:"
      ],
      "metadata": {
        "id": "wRuPHFH_eGZJ"
      }
    },
    {
      "cell_type": "code",
      "source": [
        "# Berikut adalah 2 variabel berbeda\n"
      ],
      "metadata": {
        "id": "Od7t3iPzePvA"
      },
      "execution_count": 17,
      "outputs": []
    },
    {
      "cell_type": "markdown",
      "source": [
        "Variabel dalam Python bersifat yang dinamis, artinya variabel tidak perlu didekralasikan dengan tipe data tertentu dan dapat diubah saat program dijalankan:"
      ],
      "metadata": {
        "id": "gOPAiwwHesZM"
      }
    },
    {
      "cell_type": "code",
      "source": [
        "# Variabel bersifat dinamis"
      ],
      "metadata": {
        "id": "G7jE6GuTe2KM"
      },
      "execution_count": 18,
      "outputs": []
    },
    {
      "cell_type": "markdown",
      "source": [
        "## Operators\n",
        "Dalam Python, ada berbagai jenis operator yang dapat kita gunakan:"
      ],
      "metadata": {
        "id": "j25ZpVweawzL"
      }
    },
    {
      "cell_type": "markdown",
      "source": [
        "### Operator Aritmatika\n",
        "- Penjumlahan (`+`)\n",
        "- Pengurangan (`-`)\n",
        "- Perkalian (`*`)\n",
        "- Pembagian (`/`)\n",
        "- Modulus (`%`)\n",
        "- Pemangkatan (`**`)\n",
        "- Pembagian Bulat (`//`)"
      ],
      "metadata": {
        "id": "bOLlZUyPcvIM"
      }
    },
    {
      "cell_type": "code",
      "source": [
        "# Contoh operator aritmatika:\n"
      ],
      "metadata": {
        "id": "gXQjgykUfIzX"
      },
      "execution_count": 19,
      "outputs": []
    },
    {
      "cell_type": "markdown",
      "source": [
        "### Operator Perbandingan/Relasi\n",
        "\t\n",
        "- Lebih besar (`>`)\n",
        "- Lebih kecil (`<`)\n",
        "- Sama dengan (`==`)\n",
        "- Tidak sama dengan (`!=`)\n",
        "- Lebih besar sama dengan (`>=`)\n",
        "- Lebih kecil sama dengan (`<=`)\n",
        "\n"
      ],
      "metadata": {
        "id": "dYj0oJEjfkf5"
      }
    },
    {
      "cell_type": "code",
      "source": [
        "# Contoh operator perbandingan/relasi:\n"
      ],
      "metadata": {
        "id": "eNmYxKS3gF5L"
      },
      "execution_count": 20,
      "outputs": []
    },
    {
      "cell_type": "markdown",
      "source": [
        "### Operator Logika\n",
        "- `and`: Mengembalikan `True` jika dua statement sama-sama benar\n",
        "- `or`: Mengembalikan `True` jika salah satu statement bernilai benar\n",
        "- `not`: Menegasikan hasil (`True` -> `False` dan sebalikanya)"
      ],
      "metadata": {
        "id": "FG_5POodgWxG"
      }
    },
    {
      "cell_type": "code",
      "source": [
        "# Contoh operator logika:\n"
      ],
      "metadata": {
        "id": "DzwnVV1kg4Xq"
      },
      "execution_count": 21,
      "outputs": []
    },
    {
      "cell_type": "markdown",
      "source": [
        "### Latihan\n",
        "Buatlah sebuah dictionary untuk menyimpan informasi berikut:\n",
        "- Harga apel per kg adalah Rp. 32.500\n",
        "- Harga melon per kg adalah Rp. 9.750\n",
        "- Harga nanas per kg adalah Rp. 5.800\n",
        "- Harga mangga per kg adalah Rp. 1.100\n",
        "\n",
        "Jika Doni membeli 1 kg apel, 1 kg melon, 2 kg nanas, dan 3 kg mangga, maka berapakah total uang yang harus ia bayar?"
      ],
      "metadata": {
        "id": "2MZgLDwG0Zwe"
      }
    },
    {
      "cell_type": "code",
      "source": [
        "# Jawaban:\n"
      ],
      "metadata": {
        "id": "3QwWgprU3kDr"
      },
      "execution_count": 22,
      "outputs": []
    },
    {
      "cell_type": "markdown",
      "source": [
        "## Control Flow\n",
        "Pada umumnya, kita dapat menggunakan serangkaian *keyword* `if` untuk mengatur jalannya program:"
      ],
      "metadata": {
        "id": "PsiaiWfIiJlz"
      }
    },
    {
      "cell_type": "code",
      "source": [
        "# Contoh pengunaan if\n"
      ],
      "metadata": {
        "id": "swr5ti3Y87EJ"
      },
      "execution_count": 23,
      "outputs": []
    },
    {
      "cell_type": "markdown",
      "source": [
        "Untuk melakukan percabangan, kita dapat menambahkan *keyword* `elif`:"
      ],
      "metadata": {
        "id": "VHlrDmc89ny2"
      }
    },
    {
      "cell_type": "code",
      "source": [
        "# Contoh pengunaan elif\n"
      ],
      "metadata": {
        "id": "dCCOsq4O9yud"
      },
      "execution_count": 24,
      "outputs": []
    },
    {
      "cell_type": "markdown",
      "source": [
        "Selain itu, kita dapat menggunakan *keyword* `else` bila kondisi sebelumnya tidak ada yang terpenuhi:"
      ],
      "metadata": {
        "id": "gMDyLyHG-AUF"
      }
    },
    {
      "cell_type": "code",
      "source": [
        "# Contoh pengunaan else \n"
      ],
      "metadata": {
        "id": "IMrS_pGJ-kzO"
      },
      "execution_count": 25,
      "outputs": []
    },
    {
      "cell_type": "markdown",
      "source": [
        "Kita dapat menggabungkan beberapa kondisi dengan operator logika (`and`, `or`, `not`):"
      ],
      "metadata": {
        "id": "qmiroHwl_Ctt"
      }
    },
    {
      "cell_type": "code",
      "source": [
        "# Menggabungkan beberapa kondisi"
      ],
      "metadata": {
        "id": "GPAbEcyz-3_k"
      },
      "execution_count": 26,
      "outputs": []
    },
    {
      "cell_type": "markdown",
      "source": [
        "#### Latihan\n",
        "- Buatlah sebuah program untuk menguji apakah `num` merupakan bilangan ganjil atau bilangan genap\n",
        "- Gunakan program yang telah dibuat untuk memeriksa `num = 72`\n",
        "- Gunakan program yang telah dibuat untuk memeriksa `num = 63`"
      ],
      "metadata": {
        "id": "0yDrXbH7CABY"
      }
    },
    {
      "cell_type": "code",
      "source": [
        "# Jawaban:\n"
      ],
      "metadata": {
        "id": "QaBzRhqOCvlW"
      },
      "execution_count": 27,
      "outputs": []
    },
    {
      "cell_type": "markdown",
      "source": [
        "## Loops"
      ],
      "metadata": {
        "id": "83fZtbCFiLVp"
      }
    },
    {
      "cell_type": "markdown",
      "source": [
        "### For Loop\n",
        "`for` dapat digunakan untuk melakukan pengulangan sebanyak nilai tertentu. Syntax pada umumnya adalah sebagai berikut:\n",
        "\n",
        "```\n",
        "for i in range(start, stop, step):\n",
        "  ...\n",
        "```\n",
        "- `start`: nilai awal (secara default 0)\n",
        "- `stop`: nilai akhir (ekslusif)\n",
        "- `step`: langkah (opsional)"
      ],
      "metadata": {
        "id": "LqqM8EcSiM8X"
      }
    },
    {
      "cell_type": "code",
      "source": [
        "# Contoh pengunaan for\n"
      ],
      "metadata": {
        "id": "fynHbZQRc44T"
      },
      "execution_count": 28,
      "outputs": []
    },
    {
      "cell_type": "markdown",
      "source": [
        "Note: `range(n)` akan menghasilkan angka mulai dari $0$ hingga $n - 1$."
      ],
      "metadata": {
        "id": "lwe4hlQJdeNz"
      }
    },
    {
      "cell_type": "markdown",
      "source": [
        "Kita juga dapat menggunakan `for` loop untuk melakukan iterasi terhadap tipe data *sequence* seperti *string* (`str`):"
      ],
      "metadata": {
        "id": "Xp7jJTD1eRWy"
      }
    },
    {
      "cell_type": "code",
      "source": [
        "# Contoh for pada str\n"
      ],
      "metadata": {
        "id": "byznGAbDeYzx"
      },
      "execution_count": 29,
      "outputs": []
    },
    {
      "cell_type": "markdown",
      "source": [
        "#### Latihan\n",
        "(Fizzbuzz) Write a program that prints the numbers from 1 to 50. But for multiples of 3 print \"Fizz\" instead of the number and for the multiples of 5 print \"Buzz\". For numbers which are multiples of both 3 and 5 print \"FizzBuzz\":"
      ],
      "metadata": {
        "id": "lQrBzinW_210"
      }
    },
    {
      "cell_type": "code",
      "source": [
        "# Jawaban:\n"
      ],
      "metadata": {
        "id": "tWGJp9NxbuxH"
      },
      "execution_count": 30,
      "outputs": []
    },
    {
      "cell_type": "markdown",
      "source": [
        "### While Loop\n",
        "`while` akan melakukan pengulangan selama kondisi masih `True`. Pada umumnya, syntax yang digunakan adalah sebagai berikut:\n",
        "\n",
        "```\n",
        "while <kondisi>:\n",
        "  ...\n",
        "```\n",
        "\n"
      ],
      "metadata": {
        "id": "0KXdKVi1iPOm"
      }
    },
    {
      "cell_type": "code",
      "source": [
        "# Contoh pengunaan while\n"
      ],
      "metadata": {
        "id": "CoyUSOA4e_-v"
      },
      "execution_count": 31,
      "outputs": []
    },
    {
      "cell_type": "markdown",
      "source": [
        "Note: Saat menggunakan `while`, kita wajib memperbaharui variabel pada tiap pengulangan agar program dapat berhenti"
      ],
      "metadata": {
        "id": "JCNo3zoYfHOh"
      }
    },
    {
      "cell_type": "markdown",
      "source": [
        "Kita dapat menggunakan *keyword* `break` untuk memberhentikan pengulangan dalam `while` loop:"
      ],
      "metadata": {
        "id": "B726pzM9foPy"
      }
    },
    {
      "cell_type": "code",
      "source": [
        "# Contoh pengunaan break\n"
      ],
      "metadata": {
        "id": "YY5N7O97f155"
      },
      "execution_count": 32,
      "outputs": []
    },
    {
      "cell_type": "markdown",
      "source": [
        "#### Latihan\n",
        "- Buatlah sebuah program untuk menghitung faktorial dari sebuah bilangan `n` \n",
        "- Gunakan `n = 5` untuk memeriksa program yang telah dibuat  \n",
        "- Gunakan `n = 8` untuk memeriksa program yang telah dibuat  \n",
        "\n",
        "*Hint: Faktorial dari sebuah bilangan $n$ dapat dihitung dengan $n! = n(n-1) \\ldots 1$*"
      ],
      "metadata": {
        "id": "Ftjo18Jwgoqa"
      }
    },
    {
      "cell_type": "code",
      "source": [
        "# Jawaban:\n"
      ],
      "metadata": {
        "id": "cLxQ8INLhm3w"
      },
      "execution_count": 33,
      "outputs": []
    },
    {
      "cell_type": "markdown",
      "source": [
        "### Perbedaan For dan While\n",
        "- `for` biasa digunakan saat jumlah pengulangan sudah diketahui/ditentukan \n",
        "- `while` digunakan saat jumlah pengulangan belum diketahui/ditentukan\n"
      ],
      "metadata": {
        "id": "rWVK25sWlKiw"
      }
    },
    {
      "cell_type": "markdown",
      "source": [
        "## Mini Project\n",
        "![](https://play-lh.googleusercontent.com/Z5BA3DYVKalnbCW8CGlIM3bN699i6QwRs5oE5kr_1-OYApm2cLPSlOP6mbdUJunXtw=w240-h480-rw)\n",
        "\n",
        "Buatlah sebuah kalkulator sederhana untuk dua bilangan yang mendukung 4 jenis operasi: penjumlahan (`+`), pengurangan (`-`), perkalian (`*`), dan pembagian (`/`).\n",
        "\n",
        "*Hint: Gunakan `input()` untuk menerima inputan dari user*"
      ],
      "metadata": {
        "id": "_YzeZJTcUTmJ"
      }
    },
    {
      "cell_type": "code",
      "source": [
        "# Jawaban:\n"
      ],
      "metadata": {
        "id": "3IK8p2qXViNj"
      },
      "execution_count": 34,
      "outputs": []
    },
    {
      "cell_type": "markdown",
      "source": [
        "## Thanks for joining!\n",
        "Feel free to connect with me:\n",
        "\n",
        "[<img align=\"left\" alt=\"richardcsuwandi.github.io\" width=\"30px\" src=\"https://raw.githubusercontent.com/iconic/open-iconic/master/svg/globe.svg\"/>][Website]\n",
        "\n",
        "[<img align=\"left\" alt=\"linkedin.com/richardcsuwandi\" width=\"30px\" src=\"https://cdn.jsdelivr.net/npm/simple-icons@v3/icons/linkedin.svg\" />][LinkedIn]\n",
        "\n",
        "[<img align=\"left\" alt=\"twitter.com/richardcsuwandi\" width=\"30px\" src=\"https://cdn.jsdelivr.net/npm/simple-icons@v3/icons/twitter.svg\" />][Twitter]\n",
        "\n",
        "[<img align=\"left\" alt=\"https://www.instagram.com/richardcsuwandi\" width=\"30px\" src=\"http://simpleicons.org/icons/instagram.svg\" />][Instagram]\n",
        "\n",
        "[<img align=\"left\" alt=\"https://www.github.com/richardcsuwandi\" width=\"30px\" src=\"http://simpleicons.org/icons/github.svg\" />][GitHub]\n",
        "\n",
        "[Website]: https://richardcsuwandi.github.io\n",
        "[Twitter]: https://twitter.com/richardcsuwandi\n",
        "[LinkedIn]: https://linkedin.com/in/richardcsuwandi\n",
        "[Instagram]: https://instagram.com/richardcsuwandi\n",
        "[GitHub]: https://github.com/richardcsuwandi"
      ],
      "metadata": {
        "id": "tqBrySe2YpHd"
      }
    }
  ]
}